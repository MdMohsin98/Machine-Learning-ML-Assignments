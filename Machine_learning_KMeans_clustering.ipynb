{
 "cells": [
  {
   "cell_type": "code",
   "execution_count": 3,
   "id": "4c3b01b1",
   "metadata": {},
   "outputs": [],
   "source": [
    "# Importing Necessary Libraries\n",
    "import pandas as pd\n",
    "import numpy as np\n",
    "from sklearn.cluster import KMeans \n",
    "from sklearn.datasets import make_blobs"
   ]
  },
  {
   "cell_type": "code",
   "execution_count": 6,
   "id": "18b6efc4",
   "metadata": {},
   "outputs": [
    {
     "data": {
      "text/plain": [
       "array([0, 0, 2, 2, 0, 1, 1, 1, 0, 2, 2, 2, 2, 0, 2, 0, 2, 0, 2, 2, 1, 2,\n",
       "       1, 1, 1, 2, 2, 0, 2, 2, 2, 1, 1, 0, 1, 0, 0, 2, 0, 1, 1, 2, 1, 2,\n",
       "       1, 1, 2, 2, 2, 0, 1, 1, 1, 0, 0, 2, 2, 2, 0, 1, 0, 2, 0, 0, 2, 1,\n",
       "       2, 0, 0, 1, 0, 0, 2, 1, 1, 1, 0, 1, 2, 2, 2, 0, 1, 0, 2, 1, 2, 2,\n",
       "       0, 2, 1, 1, 0, 0, 2, 0, 1, 1, 2, 2, 2, 2, 2, 0, 2, 2, 0, 0, 0, 1,\n",
       "       0, 1, 2, 1, 1, 0, 0, 0, 2, 0, 2, 0, 0, 0, 0, 2, 2, 2, 1, 0, 1, 2,\n",
       "       1, 2, 0, 1, 2, 2, 2, 0, 2, 1, 0, 1, 1, 2, 2, 2, 0, 2, 1, 0, 2, 1,\n",
       "       0, 0, 2, 1, 2, 1, 0, 1, 1, 0, 2, 0, 0, 2, 1, 0, 0, 1, 0, 0, 1, 2,\n",
       "       2, 2, 2, 1, 1, 2, 0, 2, 0, 1, 1, 1, 2, 1, 1, 2, 1, 0, 0, 2, 1, 1,\n",
       "       0, 1, 0, 2, 2, 2, 0, 1, 1, 1, 1, 0, 2, 1, 2, 2, 1, 0, 1, 1, 1, 1,\n",
       "       0, 1, 0, 0, 1, 0, 1, 1, 1, 0, 0, 0, 0, 2, 2, 2, 0, 0, 1, 1, 1, 0,\n",
       "       1, 2, 1, 1, 0, 1, 1, 0, 1, 1, 2, 0, 2, 0, 2, 1, 1, 0, 2, 0, 0, 2,\n",
       "       0, 0, 0, 1, 1, 1, 2, 0, 0, 2, 0, 2, 1, 1, 1, 2, 0, 0, 1, 1, 0, 0,\n",
       "       2, 0, 1, 0, 2, 2, 2, 0, 1, 2, 2, 1, 0, 2])"
      ]
     },
     "execution_count": 6,
     "metadata": {},
     "output_type": "execute_result"
    }
   ],
   "source": [
    "# Define no. of tables \n",
    "n_samples = 300\n",
    "# Define random state value to initialize the centre\n",
    "random_state = 20\n",
    "# Define no. of feature as 5\n",
    "X,y = make_blobs(n_samples=n_samples, n_features=5, random_state= None)\n",
    "# Define the no. of clusters to be formed\n",
    "predict_y = KMeans(n_clusters=3, random_state=random_state).fit_predict(X)\n",
    "# Print estimator prediction\n",
    "predict_y"
   ]
  },
  {
   "cell_type": "code",
   "execution_count": null,
   "id": "0510e96a",
   "metadata": {},
   "outputs": [],
   "source": []
  }
 ],
 "metadata": {
  "kernelspec": {
   "display_name": "Python 3 (ipykernel)",
   "language": "python",
   "name": "python3"
  },
  "language_info": {
   "codemirror_mode": {
    "name": "ipython",
    "version": 3
   },
   "file_extension": ".py",
   "mimetype": "text/x-python",
   "name": "python",
   "nbconvert_exporter": "python",
   "pygments_lexer": "ipython3",
   "version": "3.10.2"
  }
 },
 "nbformat": 4,
 "nbformat_minor": 5
}
